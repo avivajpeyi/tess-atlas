{
 "cells": [
  {
   "cell_type": "markdown",
   "metadata": {},
   "source": [
    "# TESS atlas fit for TOI {{{TOINUMBER}}}\n",
    "\n",
    "In this notebook, we fit the transit parameters for the TOI {{{TOINUMBER}}} system. Data access and de-trending are performed using the [$\\texttt{lightkurve}$](https://github.com/KeplerGO/lightkurve) package, and transit-fitting is done with [$\\texttt{exoplanet}$](https://github.com/dfm/exoplanet).\n",
    "\n",
    "[Open in Google Colab](https://colab.research.google.com/github/dfm/tess-atlas/blob/master/notebooks/toi-{{{TOINUMBER}}}.ipynb)\n",
    "\n",
    "First we will install required packages and set the plot style."
   ]
  },
  {
   "cell_type": "code",
   "execution_count": null,
   "metadata": {},
   "outputs": [],
   "source": [
    "!pip install -q -U lightkurve fbpca exoplanet corner"
   ]
  },
  {
   "cell_type": "code",
   "execution_count": null,
   "metadata": {},
   "outputs": [],
   "source": [
    "%matplotlib inline"
   ]
  },
  {
   "cell_type": "code",
   "execution_count": null,
   "metadata": {},
   "outputs": [],
   "source": [
    "import matplotlib.pyplot as plt\n",
    "plt.style.use(\"default\")\n",
    "\n",
    "from matplotlib import rcParams\n",
    "rcParams[\"savefig.dpi\"] = 100\n",
    "rcParams[\"figure.dpi\"] = 100\n",
    "rcParams[\"font.size\"] = 16\n",
    "rcParams[\"text.usetex\"] = False\n",
    "rcParams[\"font.family\"] = [\"sans-serif\"]\n",
    "rcParams[\"font.sans-serif\"] = [\"cmss10\"]\n",
    "rcParams[\"axes.unicode_minus\"] = False\n",
    "\n",
    "import warnings\n",
    "warnings.filterwarnings(\"ignore\", category=DeprecationWarning)\n",
    "warnings.filterwarnings(\"ignore\", category=FutureWarning)\n",
    "\n",
    "import corner\n",
    "import numpy as np\n",
    "import pandas as pd\n",
    "import lightkurve as lk\n",
    "import matplotlib.pyplot as plt\n",
    "\n",
    "import pymc3 as pm\n",
    "import exoplanet as xo\n",
    "import theano.tensor as tt"
   ]
  },
  {
   "cell_type": "markdown",
   "metadata": {},
   "source": [
    "Planetary and stellar parameters can be retrieved from [ExoFOP-TESS](https://exofop.ipac.caltech.edu/tess). "
   ]
  },
  {
   "cell_type": "code",
   "execution_count": null,
   "metadata": {},
   "outputs": [],
   "source": [
    "toi_num = {{{TOINUMBER}}}"
   ]
  },
  {
   "cell_type": "code",
   "execution_count": null,
   "metadata": {},
   "outputs": [],
   "source": [
    "tois = pd.read_csv(\"https://exofop.ipac.caltech.edu/tess/download_toi.php?sort=toi&output=csv\")\n",
    "\n",
    "# Read in planet properties\n",
    "toi = tois[tois[\"TOI\"] == toi_num + 0.01].iloc[0]\n",
    "tic = toi['TIC ID']\n",
    "tois = tois[tois[\"TIC ID\"] == tic]\n",
    "periods = np.array(tois[\"Period (days)\"], dtype=float)\n",
    "epochs = np.array(tois[\"Epoch (BJD)\"], dtype=float)\n",
    "depths = np.array(tois[\"Depth (ppm)\"], dtype=float)\n",
    "durations = np.array(tois[\"Duration (hours)\"], dtype=float) / 24.0\n",
    "\n",
    "# Read in stellar properties\n",
    "toi_r_star = toi['Stellar Radius (R_Sun)']\n",
    "toi_r_star_err = toi['Stellar Radius (R_Sun) err']\n",
    "has_r_star = True\n",
    "if not (np.isfinite(toi_r_star) and np.isfinite(toi_r_star_err)):\n",
    "    has_r_star = False\n",
    "    \n",
    "letters = \"bcdefghijklmnopqrstuvwxyz\"[:len(periods)]"
   ]
  },
  {
   "cell_type": "markdown",
   "metadata": {},
   "source": [
    "We read in target pixel files (TPFs) for each of the campaigns in which TOI {{{TOINUMBER}}} was observed. To remove systematic noise, we mask out known transits and perform second order Pixel Level De-correlation (PLD). The noise-corrected light curves are stitched together to create a single contiguous light curve."
   ]
  },
  {
   "cell_type": "code",
   "execution_count": null,
   "metadata": {},
   "outputs": [],
   "source": [
    "# Download fits files\n",
    "sr = lk.search_targetpixelfile('TIC %i' % tic)\n",
    "tpf_collection = sr.download_all()\n",
    "\n",
    "def get_transit_mask(t, transit_time, period, duration=0.2):\n",
    "    \"\"\"Return boolean list of \"\"\"\n",
    "    hp = 0.5*period\n",
    "    return np.abs((t-transit_time+hp) % period - hp) < 0.5*duration\n",
    "\n",
    "# Run PLD on each TPF\n",
    "lc_collection = []\n",
    "for tpf in tpf_collection:\n",
    "    mask = np.ones_like(tpf.time, dtype=bool)\n",
    "    for i in range(len(periods)):\n",
    "        mask &= get_transit_mask(tpf.time, epochs[i], periods[i], duration=1.5*durations[i])\n",
    "    pld = tpf.to_corrector('pld')\n",
    "    lc = pld.correct(cadence_mask=~mask, use_gp=False, pld_order=2)\n",
    "    lc_collection.append(lc)\n",
    "\n",
    "# Normalize and stitch\n",
    "lc = lc_collection[0].normalize()\n",
    "if len(lc_collection) > 1:\n",
    "    lc = lc.append([next_lc.normalize() for next_lc in lc_collection[1:]])\n",
    "lc = lc.remove_outliers()\n",
    "\n",
    "lc = lc.flatten(window_length=901)\n",
    "    \n",
    "lc.scatter();"
   ]
  },
  {
   "cell_type": "markdown",
   "metadata": {},
   "source": [
    "Using $\\texttt{exoplanet}$, we build a model for the planetary system with $\\texttt{starry}$ and fit the model parameters with $\\texttt{PyMC3}$."
   ]
  },
  {
   "cell_type": "code",
   "execution_count": null,
   "metadata": {},
   "outputs": [],
   "source": [
    "def build_model(x, y, yerr, periods, t0s, depths, mask=None, start=None):\n",
    "    \"\"\"Build an exoplanet model for a dataset and set of planets\n",
    "    \n",
    "    Args:\n",
    "        x: The time series (in days); this should probably be centered\n",
    "        y: The relative fluxes (in parts per thousand)\n",
    "        yerr: The uncertainties on ``y``\n",
    "        periods: The periods of the planets (in days)\n",
    "        t0s: The phases of the planets in the same coordinates as ``x``\n",
    "        depths: The depths of the transits in parts per thousand\n",
    "        \n",
    "    \"\"\"\n",
    "    if mask is None:\n",
    "        mask = np.ones(len(x), dtype=bool)\n",
    "    \n",
    "    periods = np.atleast_1d(periods)\n",
    "    t0s = np.atleast_1d(t0s)\n",
    "    depths = np.atleast_1d(depths)\n",
    "    n_planets = len(periods)\n",
    "    \n",
    "    with pm.Model() as model:\n",
    "        \n",
    "        model.x = x[mask]\n",
    "        model.y = y[mask]\n",
    "        model.yerr = (yerr + np.zeros_like(x))[mask]\n",
    "        model.mask = mask\n",
    "\n",
    "        # The baseline flux\n",
    "        mean = pm.Normal(\"mean\", mu=0.0, sd=10.0)\n",
    "\n",
    "        # The time of a reference transit for each planet\n",
    "        t0 = pm.Normal(\"t0\", mu=t0s, sd=1.0, shape=n_planets)\n",
    "\n",
    "        # The log period; also tracking the period itself\n",
    "        logP = pm.Normal(\"logP\", mu=np.log(periods), sd=0.1, shape=n_planets)\n",
    "        period = pm.Deterministic(\"period\", tt.exp(logP))\n",
    "\n",
    "        # The Kipping (2013) parameterization for quadratic limb darkening paramters\n",
    "        u = xo.distributions.QuadLimbDark(\"u\")\n",
    "\n",
    "        # The Espinoza (2018) parameterization for the joint radius ratio and\n",
    "        # impact parameter distribution\n",
    "        r, b = xo.distributions.get_joint_radius_impact(\n",
    "            min_radius=0.001, max_radius=0.5,\n",
    "            testval_r=np.sqrt(1e-3*np.array(depths)),\n",
    "            testval_b=0.5+np.zeros(n_planets)\n",
    "        )\n",
    "\n",
    "        # This shouldn't make a huge difference, but I like to put a uniform\n",
    "        # prior on the *log* of the radius ratio instead of the value. This\n",
    "        # can be implemented by adding a custom \"potential\" (log probability).\n",
    "        pm.Potential(\"r_prior\", -pm.math.log(r))\n",
    "\n",
    "        # Set up a Keplerian orbit for the planets\n",
    "        model.orbit = xo.orbits.KeplerianOrbit(\n",
    "            period=period, t0=t0, b=b)\n",
    "        \n",
    "        # Compute the model light curve using starry\n",
    "        model.light_curves = xo.StarryLightCurve(u).get_light_curve(\n",
    "            orbit=model.orbit, r=r, t=model.x)\n",
    "        model.light_curve = pm.math.sum(model.light_curves, axis=-1) * 1e3 + mean\n",
    "\n",
    "        # Jitter & GP parameters\n",
    "        logs2 = pm.Normal(\"logs2\", mu=np.log(np.var(model.y)), sd=10)\n",
    "        pm.Normal(\"obs\", mu=model.light_curve,\n",
    "                  sd=tt.sqrt(model.yerr**2 + tt.exp(logs2)),\n",
    "                  observed=model.y)\n",
    "\n",
    "        # Fit for the maximum a posteriori parameters, I've found that I can get\n",
    "        # a better solution by trying different combinations of parameters in turn\n",
    "        if start is None:\n",
    "            start = model.test_point\n",
    "        map_soln = start\n",
    "        map_soln = xo.optimize(start=map_soln, vars=[logs2, mean])\n",
    "        map_soln = xo.optimize(start=map_soln, vars=[model.rb, mean])\n",
    "        map_soln = xo.optimize(start=map_soln, vars=[logP, t0, mean])\n",
    "        map_soln = xo.optimize(start=map_soln)\n",
    "        model.map_soln = map_soln\n",
    "        \n",
    "    return model\n",
    "\n",
    "def build_model_sigma_clip(x, y, yerr, periods, t0s, depths, sigma=5.0, maxiter=10, start=None):\n",
    "    ntot = len(x)\n",
    "    for i in range(maxiter):\n",
    "        # Build the model\n",
    "        model = build_model(x, y, yerr, periods, t0s, depths, start=start)\n",
    "        start = model.map_soln\n",
    "\n",
    "        # Compute the map prediction\n",
    "        with model:\n",
    "            mod = xo.utils.eval_in_model(model.light_curve, model.map_soln)\n",
    "            \n",
    "        # Do sigma clipping\n",
    "        resid = y - mod\n",
    "        rms = np.sqrt(np.median(resid**2))\n",
    "        mask = np.abs(resid) < sigma * rms\n",
    "        print(ntot, mask.sum())\n",
    "        if ntot == mask.sum():\n",
    "            break\n",
    "        ntot = mask.sum()\n",
    "\n",
    "    return model"
   ]
  },
  {
   "cell_type": "markdown",
   "metadata": {},
   "source": [
    "Setup and fit for map model"
   ]
  },
  {
   "cell_type": "code",
   "execution_count": null,
   "metadata": {},
   "outputs": [],
   "source": [
    "# periods = periods\n",
    "t0s = epochs - 2457000\n",
    "depths = depths * 1e-3\n",
    "\n",
    "x = lc.time\n",
    "y = (lc.flux - 1.0) * 1e3\n",
    "yerr = lc.flux_err * 1e3\n",
    "\n",
    "model = build_model_sigma_clip(x, y, yerr, periods, t0s, depths)"
   ]
  },
  {
   "cell_type": "code",
   "execution_count": null,
   "metadata": {},
   "outputs": [],
   "source": [
    "with model:\n",
    "    mean = model.map_soln[\"mean\"]\n",
    "    light_curves = xo.utils.eval_in_model(model.light_curves, model.map_soln)\n",
    "\n",
    "plt.plot(model.x, model.y - mean, \"k\", label=\"data\")\n",
    "for n, l in enumerate(letters):\n",
    "    plt.plot(model.x, 1e3 * light_curves[:, n], label=\"planet {0}\".format(l), zorder=100-n)\n",
    "\n",
    "plt.xlabel(\"time [days]\")\n",
    "plt.ylabel(\"flux [ppt]\")\n",
    "plt.title(\"initial fit\")\n",
    "plt.xlim(model.x.min(), model.x.max())\n",
    "plt.legend(fontsize=10);"
   ]
  },
  {
   "cell_type": "code",
   "execution_count": null,
   "metadata": {},
   "outputs": [],
   "source": [
    "np.random.seed(123)\n",
    "sampler = xo.PyMC3Sampler(window=50, start=50, finish=500)\n",
    "with model:\n",
    "    burnin = sampler.tune(tune=3000, start=model.map_soln,\n",
    "                          step_kwargs=dict(target_accept=0.9),\n",
    "                          chains=2)"
   ]
  },
  {
   "cell_type": "code",
   "execution_count": null,
   "metadata": {},
   "outputs": [],
   "source": [
    "with model:\n",
    "    trace = sampler.sample(draws=1000, chains=2)"
   ]
  },
  {
   "cell_type": "code",
   "execution_count": null,
   "metadata": {},
   "outputs": [],
   "source": [
    "pm.summary(trace, varnames=[\"mean\", \"u\", \"period\", \"t0\", \"r\", \"b\"])"
   ]
  },
  {
   "cell_type": "code",
   "execution_count": null,
   "metadata": {},
   "outputs": [],
   "source": [
    "with model:\n",
    "    light_curves = np.empty((500, len(model.x), len(periods)))\n",
    "    func = xo.utils.get_theano_function_for_var(model.light_curves)\n",
    "    for i, sample in enumerate(xo.utils.get_samples_from_trace(\n",
    "            trace, size=len(light_curves))):\n",
    "        light_curves[i] = func(*xo.utils.get_args_for_theano_function(sample))\n",
    "\n",
    "for n, letter in enumerate(letters):\n",
    "    plt.figure()\n",
    "\n",
    "    # Compute the GP prediction\n",
    "    mean_mod = np.median(trace[\"mean\"][:, None])\n",
    "\n",
    "    # Get the posterior median orbital parameters\n",
    "    p = np.median(trace[\"period\"][:, n])\n",
    "    t0 = np.median(trace[\"t0\"][:, n])\n",
    "\n",
    "    # Compute the median of posterior estimate of the contribution from\n",
    "    # the other planet. Then we can remove this from the data to plot\n",
    "    # just the planet we care about.\n",
    "    inds = np.arange(len(periods)) != n\n",
    "    others = np.median(1e3*np.sum(light_curves[:, :, inds], axis=-1), axis=0)\n",
    "\n",
    "    # Plot the folded data\n",
    "    x_fold = (model.x - t0 + 0.5*p) % p - 0.5*p\n",
    "    plt.plot(x_fold, model.y - mean_mod - others, \".k\", label=\"data\", zorder=-1000)\n",
    "\n",
    "    # Plot the folded model\n",
    "    inds = np.argsort(x_fold)\n",
    "    inds = inds[np.abs(x_fold)[inds] < 0.3]\n",
    "    pred = 1e3 * light_curves[:, inds, n]\n",
    "    pred = np.percentile(pred, [16, 50, 84], axis=0)\n",
    "    plt.plot(x_fold[inds], pred[1], color=\"C1\", label=\"model\")\n",
    "    art = plt.fill_between(x_fold[inds], pred[0], pred[2], color=\"C1\", alpha=0.5,\n",
    "                           zorder=1000)\n",
    "    art.set_edgecolor(\"none\")\n",
    "\n",
    "    # Annotate the plot with the planet's period\n",
    "    txt = \"period = {0:.4f} +/- {1:.4f} d\".format(\n",
    "        np.mean(trace[\"period\"][:, n]), np.std(trace[\"period\"][:, n]))\n",
    "    plt.annotate(txt, (0, 0), xycoords=\"axes fraction\",\n",
    "                 xytext=(5, 5), textcoords=\"offset points\",\n",
    "                 ha=\"left\", va=\"bottom\", fontsize=12)\n",
    "\n",
    "    plt.legend(fontsize=10, loc=4)\n",
    "    plt.xlim(-0.5*p, 0.5*p)\n",
    "    plt.xlabel(\"time since transit [days]\")\n",
    "    plt.ylabel(\"de-trended flux\")\n",
    "    plt.title(\"TOI {0}{1}\".format(toi_num, letter));\n",
    "    plt.xlim(-0.3, 0.3)"
   ]
  },
  {
   "cell_type": "code",
   "execution_count": null,
   "metadata": {},
   "outputs": [],
   "source": [
    "ror_samps = trace[\"r\"]\n",
    "r_star_samps = toi_r_star + toi_r_star_err * np.random.randn(len(ror_samps))\n",
    "r_pl = ror_samps * r_star_samps[:, None] * 109.07637070600963\n",
    "samples = np.concatenate((r_pl, trace[\"b\"]), axis=-1)\n",
    "\n",
    "labels = [\"$R_{{\\mathrm{{Pl}},{0}}}$ [$R_\\oplus$]\".format(i) for i in letters]\n",
    "labels += [\"impact param {0}\".format(i) for i in letters]\n",
    "\n",
    "corner.corner(samples, labels=labels);"
   ]
  },
  {
   "cell_type": "code",
   "execution_count": null,
   "metadata": {},
   "outputs": [],
   "source": [
    "labels = [\"$P_{{{0}}}$ [days]\".format(i) for i in letters]\n",
    "labels += [\"$t0_{{{0}}}$ [TBJD]\".format(i) for i in letters]\n",
    "samples = np.concatenate((trace[\"period\"], trace[\"t0\"]), axis=-1)\n",
    "corner.corner(samples, labels=labels);"
   ]
  },
  {
   "cell_type": "code",
   "execution_count": null,
   "metadata": {},
   "outputs": [],
   "source": [
    "samples = trace[\"u\"]\n",
    "labels = [\"$u_1$\", \"$u_2$\"]\n",
    "corner.corner(samples, labels=labels);"
   ]
  },
  {
   "cell_type": "code",
   "execution_count": null,
   "metadata": {},
   "outputs": [],
   "source": []
  }
 ],
 "metadata": {
  "kernelspec": {
   "display_name": "Python 3",
   "language": "python",
   "name": "python3"
  },
  "language_info": {
   "codemirror_mode": {
    "name": "ipython",
    "version": 3
   },
   "file_extension": ".py",
   "mimetype": "text/x-python",
   "name": "python",
   "nbconvert_exporter": "python",
   "pygments_lexer": "ipython3",
   "version": "3.6.5"
  }
 },
 "nbformat": 4,
 "nbformat_minor": 2
}
